{
 "cells": [
  {
   "cell_type": "markdown",
   "metadata": {},
   "source": [
    "# Associação (Usa outra classe)\n",
    "Ela descreve um vínculo que ocorre entre classes.\n",
    "A forma mais comum de implementar associação é ter um objeto como atributo de outro, neste exemplo, abaixo:"
   ]
  },
  {
   "cell_type": "code",
   "execution_count": null,
   "metadata": {},
   "outputs": [],
   "source": [
    "class Escritor:\n",
    "    def __init__(self, nome):\n",
    "        self.__nome = nome\n",
    "        self.__ferramenta = None\n",
    "\n",
    "    @property\n",
    "    def nome(self):\n",
    "        return self.__nome\n",
    "\n",
    "    @property\n",
    "    def ferramenta(self):\n",
    "        return self.__ferramenta\n",
    "\n",
    "    @ferramenta.setter\n",
    "    def ferramenta(self, ferramenta):\n",
    "        self.__ferramenta = ferramenta\n",
    "        \n",
    "\n",
    "class Caneta:\n",
    "    def __init__(self, marca):\n",
    "        self.__marca = marca\n",
    "\n",
    "    @property\n",
    "    def marca(self):\n",
    "        return self.__marca\n",
    "\n",
    "    def escrever(self):\n",
    "        print(f'Caneta {self.__marca} está escrevendo...')"
   ]
  },
  {
   "cell_type": "code",
   "execution_count": null,
   "metadata": {},
   "outputs": [],
   "source": [
    "escritor = Escritor('João')\n",
    "caneta = Caneta('Bic')\n",
    "\n",
    "escritor.ferramenta = caneta\n",
    "escritor.ferramenta.escrever()"
   ]
  }
 ],
 "metadata": {
  "language_info": {
   "name": "python"
  },
  "orig_nbformat": 4
 },
 "nbformat": 4,
 "nbformat_minor": 2
}
