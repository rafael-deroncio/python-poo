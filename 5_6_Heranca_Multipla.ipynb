{
 "cells": [
  {
   "cell_type": "markdown",
   "metadata": {},
   "source": [
    "# Herança múltipla\n",
    "\n",
    "Herança múltipla, em orientação a objetos, é o conceito de herança de duas ou mais classes."
   ]
  },
  {
   "cell_type": "code",
   "execution_count": null,
   "metadata": {},
   "outputs": [],
   "source": [
    "class A:\n",
    "    def falar(self):\n",
    "        print('Falando... Estou em A.')\n",
    "\n",
    "class B(A):\n",
    "    def falar(self):\n",
    "        print('Falando... Estou em B.')\n",
    "\n",
    "class C(B, A):\n",
    "    pass\n",
    "\n",
    "c = C()\n",
    "c.falar()"
   ]
  }
 ],
 "metadata": {
  "language_info": {
   "name": "python"
  },
  "orig_nbformat": 4
 },
 "nbformat": 4,
 "nbformat_minor": 2
}
