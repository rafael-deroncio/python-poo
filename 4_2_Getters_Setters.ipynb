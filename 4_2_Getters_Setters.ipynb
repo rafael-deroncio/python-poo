{
 "cells": [
  {
   "cell_type": "markdown",
   "metadata": {},
   "source": [
    "# Getters & Setters\n",
    "\n",
    "Esses métodos são chamados logo que um objeto é instanciado a partir da classe, servem como um filtro.\n",
    "\n",
    "O método __`getter`__ obtém um valor para o atributo da instância. E deve conter o decorador `@property` antes de sua assinatura.\n",
    "\n",
    "O método __`setter`__ configura um valor para o atributo. Deve conter um decorador com mesmo nome do atributo seguido de setter, `@nome.setter`."
   ]
  },
  {
   "cell_type": "code",
   "execution_count": null,
   "metadata": {},
   "outputs": [],
   "source": [
    "class Produto:\n",
    "    def __init__(self, nome):\n",
    "        self.nome = nome\n",
    "    \n",
    "    # Getter\n",
    "    @property\n",
    "    def nome(self):\n",
    "        return self._nome\n",
    "\n",
    "    # Setter\n",
    "    @nome.setter\n",
    "    def nome(self, nome):\n",
    "        self._nome = nome.title()"
   ]
  }
 ],
 "metadata": {
  "interpreter": {
   "hash": "9efce205f64ad363cd9f14615485aca38ee4ef0915866e318aa83c8d0c93f6fc"
  },
  "kernelspec": {
   "display_name": "Python 3.10.2 64-bit",
   "language": "python",
   "name": "python3"
  },
  "language_info": {
   "codemirror_mode": {
    "name": "ipython",
    "version": 3
   },
   "file_extension": ".py",
   "mimetype": "text/x-python",
   "name": "python",
   "nbconvert_exporter": "python",
   "pygments_lexer": "ipython3",
   "version": "3.10.2"
  },
  "orig_nbformat": 4
 },
 "nbformat": 4,
 "nbformat_minor": 2
}
