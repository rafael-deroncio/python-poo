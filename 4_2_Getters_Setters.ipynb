{
 "cells": [
  {
   "cell_type": "markdown",
   "metadata": {},
   "source": [
    "# Getters & Setters\n",
    "\n",
    "Esses métodos são chamados logo que um objeto é instanciado a partir da classe, servem como um filtro.\n",
    "\n",
    "O método __`getter`__ obtém um valor para o atributo da instância. E deve conter o decorador `@property` antes de sua assinatura.\n",
    "\n",
    "O método __`setter`__ configura um valor para o atributo. Deve conter um decorador com mesmo nome do atributo seguido de setter, `@nome.setter`."
   ]
  },
  {
   "cell_type": "code",
   "execution_count": null,
   "metadata": {},
   "outputs": [],
   "source": [
    "class Produto:\n",
    "    def __init__(self, nome):\n",
    "        self.nome = nome\n",
    "    \n",
    "    # Getter\n",
    "    @property\n",
    "    def nome(self):\n",
    "        return self._nome\n",
    "\n",
    "    # Setter\n",
    "    @nome.setter\n",
    "    def nome(self, nome):\n",
    "        self._nome = nome.title()"
   ]
  }
 ],
 "metadata": {
  "language_info": {
   "name": "python"
  },
  "orig_nbformat": 4
 },
 "nbformat": 4,
 "nbformat_minor": 2
}
