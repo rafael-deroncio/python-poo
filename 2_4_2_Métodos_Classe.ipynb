{
 "cells": [
  {
   "cell_type": "markdown",
   "metadata": {},
   "source": [
    "# Métodos da classe\n",
    "\n",
    "Além dos métodos de instância que ficam disponíveis para cada objeto instanciado a partir da classe, também podem ser criados métodos próprios da classe onde ficam acessíveis apenas para a  classe em si e não para objetos instanciados a partir da classe. \n",
    "   \n",
    "Para esse comportamento devemos passar antes um decorator chamado `@classmethod` e o primeiro parâmetro passa a ser a própria classe `(cls)`.\n",
    "   \n",
    "__*Utilizamos Métodos de Classe quando vamos fazer acesso aos Atríbutos da _Classe_.__"
   ]
  },
  {
   "cell_type": "code",
   "execution_count": 5,
   "metadata": {},
   "outputs": [],
   "source": [
    "class Lampada():\n",
    "    \n",
    "    id = 0\n",
    "\n",
    "    @classmethod\n",
    "    def ids(cls):\n",
    "        print(f'Total de ID`s registrados: {cls.id}')\n",
    "\n",
    "    def __init__(self, cor, voltagem, luminosidade):\n",
    "        self.cor = cor\n",
    "        self.voltagem = voltagem\n",
    "        self.luminosidade = luminosidade\n",
    "\n",
    "        self.id = Lampada.id + 1\n",
    "        Lampada.id = self.id"
   ]
  },
  {
   "cell_type": "code",
   "execution_count": 6,
   "metadata": {},
   "outputs": [
    {
     "name": "stdout",
     "output_type": "stream",
     "text": [
      "Total de ID`s registrados: 1\n"
     ]
    }
   ],
   "source": [
    "# Instância da Classe\n",
    "lampada1 = Lampada('Branca', 110, 'Clara')\n",
    "\n",
    "# Acessando os Métodos da Classe:\n",
    "lampada1.ids()"
   ]
  }
 ],
 "metadata": {
  "interpreter": {
   "hash": "9efce205f64ad363cd9f14615485aca38ee4ef0915866e318aa83c8d0c93f6fc"
  },
  "kernelspec": {
   "display_name": "Python 3.10.2 64-bit",
   "language": "python",
   "name": "python3"
  },
  "language_info": {
   "codemirror_mode": {
    "name": "ipython",
    "version": 3
   },
   "file_extension": ".py",
   "mimetype": "text/x-python",
   "name": "python",
   "nbconvert_exporter": "python",
   "pygments_lexer": "ipython3",
   "version": "3.10.2"
  },
  "orig_nbformat": 4
 },
 "nbformat": 4,
 "nbformat_minor": 2
}
