{
 "cells": [
  {
   "cell_type": "code",
   "execution_count": 29,
   "metadata": {},
   "outputs": [],
   "source": [
    "from abc import ABC, abstractmethod"
   ]
  },
  {
   "cell_type": "code",
   "execution_count": 30,
   "metadata": {},
   "outputs": [],
   "source": [
    "class Controlador(ABC):\n",
    "\n",
    "    @abstractmethod\n",
    "    def ligar():\n",
    "        pass\n",
    "\n",
    "    @abstractmethod\n",
    "    def desligar():\n",
    "        pass\n",
    "\n",
    "    @abstractmethod\n",
    "    def abrirMenu():\n",
    "        pass\n",
    "\n",
    "    @abstractmethod\n",
    "    def fecharMenu():\n",
    "        pass\n",
    "\n",
    "    @abstractmethod\n",
    "    def maisVolume():\n",
    "        pass\n",
    "\n",
    "    @abstractmethod\n",
    "    def menosVolume():\n",
    "        pass\n",
    "\n",
    "    @abstractmethod\n",
    "    def ligaMudo():\n",
    "        pass\n",
    "\n",
    "    @abstractmethod\n",
    "    def desligaMudo():\n",
    "        pass\n",
    "\n",
    "    @abstractmethod\n",
    "    def play():\n",
    "        pass\n",
    "\n",
    "    @abstractmethod\n",
    "    def pause():\n",
    "        pass"
   ]
  },
  {
   "cell_type": "code",
   "execution_count": 55,
   "metadata": {},
   "outputs": [],
   "source": [
    "class ControleRemoto():\n",
    "    \n",
    "    def __init__(self):\n",
    "        self.__ligado = False\n",
    "        self.__tocando = False\n",
    "        self.__mudo = False\n",
    "        self.__volume = 50\n",
    "    \n",
    "    @property\n",
    "    def ligado(self):\n",
    "        return self.__ligado\n",
    "    \n",
    "    @ligado.setter\n",
    "    def ligado(self, ligado):\n",
    "        self.ligado = ligado\n",
    "\n",
    "    @property\n",
    "    def tocando(self):\n",
    "        return self.__tocando\n",
    "    \n",
    "    @tocando.setter\n",
    "    def tocando(self, tocando):\n",
    "        self.tocando = tocando\n",
    "\n",
    "    @property\n",
    "    def mudo(self):\n",
    "        return self.__mudo\n",
    "    \n",
    "    @mudo.setter\n",
    "    def mudo(self, mudo):\n",
    "        self.mudo = mudo\n",
    "\n",
    "    @property\n",
    "    def volume(self):\n",
    "        return self.__volume\n",
    "    \n",
    "    @volume.setter\n",
    "    def volume(self, volume):\n",
    "        self.volume = volume\n",
    "\n",
    "c1 = ControleRemoto"
   ]
  },
  {
   "cell_type": "code",
   "execution_count": null,
   "metadata": {},
   "outputs": [],
   "source": []
  }
 ],
 "metadata": {
  "interpreter": {
   "hash": "9efce205f64ad363cd9f14615485aca38ee4ef0915866e318aa83c8d0c93f6fc"
  },
  "kernelspec": {
   "display_name": "Python 3.10.2 64-bit",
   "language": "python",
   "name": "python3"
  },
  "language_info": {
   "codemirror_mode": {
    "name": "ipython",
    "version": 3
   },
   "file_extension": ".py",
   "mimetype": "text/x-python",
   "name": "python",
   "nbconvert_exporter": "python",
   "pygments_lexer": "ipython3",
   "version": "3.10.2"
  },
  "orig_nbformat": 4
 },
 "nbformat": 4,
 "nbformat_minor": 2
}
