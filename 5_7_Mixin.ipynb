{
 "cells": [
  {
   "cell_type": "markdown",
   "metadata": {},
   "source": [
    "# Mixin\n",
    "\n",
    "Especialmente no contexto do Python, um mixin é uma classe pai que fornece funcionalidade às subclasses, mas não se destina a ser instanciado."
   ]
  },
  {
   "cell_type": "code",
   "execution_count": null,
   "metadata": {},
   "outputs": [],
   "source": [
    "class LogMixin:\n",
    "    \"\"\"\n",
    "    cria um arquivo de log com infos e errors.\n",
    "    \"\"\"\n",
    "    @staticmethod\n",
    "    def write(msg):\n",
    "        with open('log.log', 'a+') as f:\n",
    "            f.write(msg)\n",
    "            f.write('\\n')\n",
    "\n",
    "    def log_info(self, msg):\n",
    "        \"\"\"\n",
    "        grava mensagem de info no arquivo\n",
    "        :param msg:\n",
    "        :return:\n",
    "        \"\"\"\n",
    "        self.write(f'INFO: {msg}')\n",
    "\n",
    "\n",
    "    def log_error(self, msg):\n",
    "        \"\"\"\n",
    "        grava mensagem de erro no arquivo\n",
    "        :param msg:\n",
    "        :return:\n",
    "        \"\"\"\n",
    "        self.write(f'ERROR: {msg}')"
   ]
  }
 ],
 "metadata": {
  "language_info": {
   "name": "python"
  },
  "orig_nbformat": 4
 },
 "nbformat": 4,
 "nbformat_minor": 2
}
