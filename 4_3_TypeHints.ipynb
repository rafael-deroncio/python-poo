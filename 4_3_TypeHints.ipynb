{
 "cells": [
  {
   "cell_type": "markdown",
   "metadata": {},
   "source": [
    "# Type Hints (Python 3.5)\n",
    "\n",
    "Python possui __tipagem dinâmica__, onde os tipos são verificados durante a __execução__. E também __tipagem__ forte, todas as operações entre tipos diferentes devem ser explicitamente definidas e operações não definidas entre tipos vão resultar em um erro.\n",
    "Para isso o uso dos __type hints__ pode ser de grande auxílio para programadores com background em alguma linguagem estaticamente tipada como Java, Haskell e Go, que tenha que desenvolver algo maior do que um simples script em Python.\n",
    "\n",
    "__Algumas vantagens de seu uso:__   \n",
    "- Servem como uma forma de documentação;\n",
    "- Otimizações em tempo de compilação;\n",
    "- Segurança ao analisar o programa;\n",
    "- Code-complete melhor;\n",
    "-É mais fácil de se achar em uma codebase extensa."
   ]
  },
  {
   "cell_type": "code",
   "execution_count": null,
   "metadata": {},
   "outputs": [],
   "source": [
    "from typing import Union\n",
    "\n",
    "# Definindo tipos de variáveis\n",
    "x: int = 10\n",
    "y: float = 10.5\n",
    "z: bool = False\n",
    "\n",
    "# Definindo tipos de argumentos e retorno de uma função\n",
    "def greeting(name: str) -> str:\n",
    "    return 'Hello ' + name\n",
    "\n",
    "# Definindo retorno com mais de um tipo com Union do módulo typing\n",
    "def fn(p1: float, p2: int) -> Union[int, float]:\n",
    "    return p1 * p2"
   ]
  }
 ],
 "metadata": {
  "language_info": {
   "name": "python"
  },
  "orig_nbformat": 4
 },
 "nbformat": 4,
 "nbformat_minor": 2
}
