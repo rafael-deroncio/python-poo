{
 "cells": [
  {
   "cell_type": "markdown",
   "metadata": {},
   "source": [
    "# Métodos abstratos\n",
    "São métodos que não possuem um corpo apenas a assinatura do método, geralmente são criados dentro de uma classe abstrata para serem sobrescritos nas instâncias que herdarem dessa classe."
   ]
  },
  {
   "cell_type": "code",
   "execution_count": null,
   "metadata": {},
   "outputs": [],
   "source": [
    "from abc import ABC, abstractmethod"
   ]
  },
  {
   "cell_type": "code",
   "execution_count": null,
   "metadata": {},
   "outputs": [],
   "source": [
    "class Example(ABC):\n",
    "    @abstractmethod\n",
    "    def sacar(self, valor):\n",
    "        pass"
   ]
  }
 ],
 "metadata": {
  "language_info": {
   "name": "python"
  },
  "orig_nbformat": 4
 },
 "nbformat": 4,
 "nbformat_minor": 2
}
