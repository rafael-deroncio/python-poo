{
 "cells": [
  {
   "cell_type": "markdown",
   "metadata": {},
   "source": [
    "# Sobreposição de métodos\n",
    "\n",
    "Métodos herdados podem ser sobrescritos dentro da classe.\n",
    "\n",
    "Para usar a lógica do método sobrescrito e adicionar mais linhas de código é necessário passar ao método `super()` que se refere a classe que está sendo herdada, para referenciar uma classe específica dentro da cadeia de herança é necessário passar o nome da classe com o método e por parâmetro o `self`."
   ]
  },
  {
   "cell_type": "code",
   "execution_count": 1,
   "metadata": {},
   "outputs": [],
   "source": [
    "# superclasse\n",
    "class Pessoa:\n",
    "    def __init__(self, nome):\n",
    "        self.__nome = nome\n",
    "        \n",
    "    @property\n",
    "    def nome(self):\n",
    "        return self.__nome\n",
    "    \n",
    "    @nome.setter\n",
    "    def nome(self, nome):\n",
    "        self.__nome = nome\n",
    "\n",
    "    def falar(self):\n",
    "        print(f'{self.nome} está falando...')\n",
    "\n",
    "# subclasses\n",
    "class Cliente(Pessoa):\n",
    "    def comprar(self):\n",
    "        print(f'{self.nome} comprando...')\n",
    "\n",
    "# subclasses\n",
    "class ClienteVip(Cliente):\n",
    "    def __init__(self, nome, sobrenome):\n",
    "        super().__init__(nome)\n",
    "        self.sobrenome = sobrenome\n",
    "\n",
    "    def falar(self):\n",
    "        # Pessoa.falar(self)  # neste caso se refere a classe Pessoa especificamente.\n",
    "        super().falar()     # neste caso se refere a classe herdada (Cliente).\n",
    "        print(f'{self.nome} {self.sobrenome} é vip...')"
   ]
  }
 ],
 "metadata": {
  "interpreter": {
   "hash": "9efce205f64ad363cd9f14615485aca38ee4ef0915866e318aa83c8d0c93f6fc"
  },
  "kernelspec": {
   "display_name": "Python 3.10.2 64-bit",
   "language": "python",
   "name": "python3"
  },
  "language_info": {
   "codemirror_mode": {
    "name": "ipython",
    "version": 3
   },
   "file_extension": ".py",
   "mimetype": "text/x-python",
   "name": "python",
   "nbconvert_exporter": "python",
   "pygments_lexer": "ipython3",
   "version": "3.10.2"
  },
  "orig_nbformat": 4
 },
 "nbformat": 4,
 "nbformat_minor": 2
}
