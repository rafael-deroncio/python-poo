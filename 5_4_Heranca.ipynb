{
 "cells": [
  {
   "cell_type": "markdown",
   "metadata": {},
   "source": [
    "# Herança\n",
    "\n",
    "Um objeto pode ter métodos e atributos de outra classe por herança, isso significa que a classe tem todas características da classe herdada, além de poder ter as suas próprias.\n",
    "\n",
    "Uma das grandes vantagens de usar o recurso da herança é na reutilização do código. Esse reaproveitamento pode ser acionado quando se identifica que o atributo ou método de uma classe será igual para as outras. Para efetuar uma herança de uma classe é passado o nome da classe como parâmetro."
   ]
  },
  {
   "cell_type": "code",
   "execution_count": null,
   "metadata": {},
   "outputs": [],
   "source": [
    "# superclasse\n",
    "class Pessoa:\n",
    "    def __init__(self, nome):\n",
    "        self.__nome = nome\n",
    "        \n",
    "    @property\n",
    "    def nome(self):\n",
    "        return self.__nome\n",
    "    \n",
    "    @nome.setter\n",
    "    def nome(self, nome):\n",
    "        self.__nome = nome\n",
    "\n",
    "    def falar(self):\n",
    "        print(f'{self.nome} está falando...')"
   ]
  },
  {
   "cell_type": "code",
   "execution_count": null,
   "metadata": {},
   "outputs": [],
   "source": [
    "# subclasses\n",
    "class Cliente(Pessoa):\n",
    "    def comprar(self):\n",
    "        print(f'{self.nome} comprando...')\n",
    "\n",
    "\n",
    "class Aluno(Pessoa):\n",
    "    def estudar(self):\n",
    "        print(f'{self.nome} estudando...')"
   ]
  }
 ],
 "metadata": {
  "language_info": {
   "name": "python"
  },
  "orig_nbformat": 4
 },
 "nbformat": 4,
 "nbformat_minor": 2
}
