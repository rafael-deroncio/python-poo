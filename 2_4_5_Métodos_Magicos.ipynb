{
 "cells": [
  {
   "cell_type": "markdown",
   "metadata": {},
   "source": [
    "# Métodos \"mágicos\"\n",
    "\n",
    "São métodos especiais que você pode definir para adicionar \"magia\" às classes. Eles estão sempre cercados por dois underlines (por exemplo, __init__ ou __lt__).\n",
    "\n",
    "Para ver todos métodos mágicos recomendo este [guia](https://rszalski.github.io/magicmethods/), seguem alguns mais usados:"
   ]
  },
  {
   "cell_type": "markdown",
   "metadata": {},
   "source": [
    "**`__new__`**   \n",
    "É o primeiro método a ser chamado na instanciação de um objeto. Ele recebe a classe e, a seguir, quaisquer outros argumentos e passará para o `__init__`."
   ]
  },
  {
   "cell_type": "code",
   "execution_count": null,
   "metadata": {},
   "outputs": [],
   "source": [
    "class Pessoa:\n",
    "    def __new__(cls, *args, **kwargs):\n",
    "        pass"
   ]
  },
  {
   "cell_type": "markdown",
   "metadata": {},
   "source": [
    "**`__init__`**   \n",
    "O inicializador da classe, é chamado assim que a classe for instanciada."
   ]
  },
  {
   "cell_type": "code",
   "execution_count": null,
   "metadata": {},
   "outputs": [],
   "source": [
    "class Pessoa:\n",
    "    def __init__(self, nome):\n",
    "        self.nome = nome"
   ]
  },
  {
   "cell_type": "markdown",
   "metadata": {},
   "source": [
    "**`__call__`**   \n",
    "Permite que uma instância de uma classe seja chamada como uma função. Essencialmente, isso significa que Pessoa() é o mesmo que Pessoa.`__call__()`.   \n",
    "Observe que `__call__` leva um número variável de argumentos, isso significa que você define `__call__` como faria com qualquer outra função, usando quantos argumentos quiser."
   ]
  },
  {
   "cell_type": "code",
   "execution_count": 1,
   "metadata": {},
   "outputs": [
    {
     "name": "stdout",
     "output_type": "stream",
     "text": [
      "(1, 2, 3)\n",
      "{'nome': 'Rafael'}\n"
     ]
    }
   ],
   "source": [
    "class Pessoa:\n",
    "    def __call__(self, *args, **kwargs):\n",
    "        print(args)\n",
    "        print(kwargs)\n",
    "\n",
    "p = Pessoa()\n",
    "p(1, 2, 3, nome='Rafael')"
   ]
  },
  {
   "cell_type": "markdown",
   "metadata": {},
   "source": [
    "**`__setattr__`**   \n",
    "É uma solução de __encapsulamento__. Ele permite que você defina o comportamento para atribuição a um atributo, independentemente da existência ou não desse atributo, o que significa que você pode definir regras personalizadas para quaisquer alterações nos valores dos atributos."
   ]
  },
  {
   "cell_type": "code",
   "execution_count": null,
   "metadata": {},
   "outputs": [],
   "source": [
    "class Pessoa:\n",
    "    def __init__(self, name):\n",
    "        self.name = name\n",
    "        \n",
    "    def __setattr__(self, key, value):\n",
    "        if key != 'name':\n",
    "            self.__dict__[key] = value"
   ]
  }
 ],
 "metadata": {
  "interpreter": {
   "hash": "9efce205f64ad363cd9f14615485aca38ee4ef0915866e318aa83c8d0c93f6fc"
  },
  "kernelspec": {
   "display_name": "Python 3.10.2 64-bit",
   "language": "python",
   "name": "python3"
  },
  "language_info": {
   "codemirror_mode": {
    "name": "ipython",
    "version": 3
   },
   "file_extension": ".py",
   "mimetype": "text/x-python",
   "name": "python",
   "nbconvert_exporter": "python",
   "pygments_lexer": "ipython3",
   "version": "3.10.2"
  },
  "orig_nbformat": 4
 },
 "nbformat": 4,
 "nbformat_minor": 2
}
