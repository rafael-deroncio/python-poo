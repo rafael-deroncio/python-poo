{
 "cells": [
  {
   "cell_type": "markdown",
   "metadata": {},
   "source": [
    "# Atributos\n",
    "Os atributos podem ser definidos direto dentro da classe __(Atributo de Classe)__ ou dentro dos métodos criados na classe __(Atributos da Instância)__\n",
    "   \n",
    "A diferença é que o atributo da classe pode ser acessado e alterado pela classe mas as instâncias só podem acessá-lo mas não conseguem alterá-lo.\n",
    "   \n",
    "> Caso seja atribuído valor para um atributo da instância de mesmo nome que ela herdou da classe, será criado um novo atributo de instância enquanto o atributo da classe permanece inalterado.\n",
    "\n"
   ]
  },
  {
   "cell_type": "code",
   "execution_count": null,
   "metadata": {},
   "outputs": [],
   "source": [
    "# Atríbutos de Instância:\n",
    "\n",
    "class Caneta:\n",
    "\n",
    "    def __init__(self, cor, marca):\n",
    "\n",
    "        # Atríbutos da Instância:\n",
    "        self.cor = cor\n",
    "        self.marca = marca\n",
    "        self.tampada = False\n",
    "\n",
    "caneta1 = Caneta(cor='Vermelho', marca='BIC')"
   ]
  },
  {
   "cell_type": "code",
   "execution_count": 2,
   "metadata": {},
   "outputs": [],
   "source": [
    "# Atríbutos da Classe:\n",
    "\n",
    "class Caneta:\n",
    "\n",
    "    # Atríbutos da Classe:\n",
    "    tampada = False\n",
    "\n",
    "    def __init__(self, cor, marca):\n",
    "\n",
    "        self.cor = cor\n",
    "        self.marca = marca\n",
    "        self.tampada = Caneta.tampada\n",
    "\n",
    "caneta1 = Caneta(cor='Vermelho', marca='BIC')"
   ]
  }
 ],
 "metadata": {
  "interpreter": {
   "hash": "9efce205f64ad363cd9f14615485aca38ee4ef0915866e318aa83c8d0c93f6fc"
  },
  "kernelspec": {
   "display_name": "Python 3.10.2 64-bit",
   "language": "python",
   "name": "python3"
  },
  "language_info": {
   "codemirror_mode": {
    "name": "ipython",
    "version": 3
   },
   "file_extension": ".py",
   "mimetype": "text/x-python",
   "name": "python",
   "nbconvert_exporter": "python",
   "pygments_lexer": "ipython3",
   "version": "3.10.2"
  },
  "orig_nbformat": 4
 },
 "nbformat": 4,
 "nbformat_minor": 2
}
