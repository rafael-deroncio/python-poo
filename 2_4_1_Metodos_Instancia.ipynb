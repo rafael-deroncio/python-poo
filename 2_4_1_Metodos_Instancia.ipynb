{
 "cells": [
  {
   "cell_type": "markdown",
   "metadata": {},
   "source": [
    "# Métodos de instância\n",
    "\n",
    "Qualquer método criado dentro da classe, que ao ser instanciada o objeto vai receber os métodos dela.\n",
    "\n",
    "__`self`__   \n",
    "Todos métodos de instância da classe recebem como primeiro atributo o `self`, ele refere-se a instância que foi criada a partir da classe.\n",
    "   \n",
    "Atributos da classe podem ser declarados no construtor sendo atribuídos os valores que forem passados por parâmetro, como também serem criados diretos na classe sendo acessíveis para todas as instâncias criadas através do self.\n",
    "\n",
    "__*Utilizamos Métodos de Instância quando vamos fazer acesso aos Atríbutos da _Instância_.__  "
   ]
  },
  {
   "cell_type": "code",
   "execution_count": 2,
   "metadata": {},
   "outputs": [],
   "source": [
    "class Pessoa:\n",
    "    def comer(self, alimento):\n",
    "        print(f'Pessoa está comendo {alimento}.')"
   ]
  },
  {
   "cell_type": "code",
   "execution_count": 3,
   "metadata": {},
   "outputs": [
    {
     "name": "stdout",
     "output_type": "stream",
     "text": [
      "Pessoa está comendo Arroz.\n"
     ]
    }
   ],
   "source": [
    "p = Pessoa()\n",
    "p.comer('Arroz')"
   ]
  }
 ],
 "metadata": {
  "interpreter": {
   "hash": "9efce205f64ad363cd9f14615485aca38ee4ef0915866e318aa83c8d0c93f6fc"
  },
  "kernelspec": {
   "display_name": "Python 3.10.2 64-bit",
   "language": "python",
   "name": "python3"
  },
  "language_info": {
   "codemirror_mode": {
    "name": "ipython",
    "version": 3
   },
   "file_extension": ".py",
   "mimetype": "text/x-python",
   "name": "python",
   "nbconvert_exporter": "python",
   "pygments_lexer": "ipython3",
   "version": "3.10.2"
  },
  "orig_nbformat": 4
 },
 "nbformat": 4,
 "nbformat_minor": 2
}
