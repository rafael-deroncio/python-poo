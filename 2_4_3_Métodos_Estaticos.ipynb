{
 "cells": [
  {
   "cell_type": "markdown",
   "metadata": {},
   "source": [
    "# Métodos estáticos\n",
    "\n",
    "São métodos que __não recebem__ o contexto da instância e da classe, poderiam até ser criados fora da classe.\n",
    "Deve-se adicionar um decorator __`@staticmethod`__ antes da assinatura do método.\n",
    "\n",
    "__*Utilizamos Métodos Estáticos quando NÃO vamos fazer acesso aos Atríbutos da _Classe_ ou Atríbutos da _Instância_.__"
   ]
  },
  {
   "cell_type": "code",
   "execution_count": 2,
   "metadata": {},
   "outputs": [],
   "source": [
    "from random import randint\n",
    "\n",
    "class Pessoa:    \n",
    "    def __init__(self, nome, idade):\n",
    "        self.nome = nome\n",
    "        self.idade = idade\n",
    "\n",
    "    @staticmethod\n",
    "    def gera_id():\n",
    "        rand = randint(10000, 19999)\n",
    "        return rand"
   ]
  },
  {
   "cell_type": "code",
   "execution_count": 3,
   "metadata": {},
   "outputs": [
    {
     "name": "stdout",
     "output_type": "stream",
     "text": [
      "12212\n"
     ]
    }
   ],
   "source": [
    "p = Pessoa('Rafael', 98)\n",
    "print(p.gera_id())"
   ]
  }
 ],
 "metadata": {
  "interpreter": {
   "hash": "9efce205f64ad363cd9f14615485aca38ee4ef0915866e318aa83c8d0c93f6fc"
  },
  "kernelspec": {
   "display_name": "Python 3.10.2 64-bit",
   "language": "python",
   "name": "python3"
  },
  "language_info": {
   "codemirror_mode": {
    "name": "ipython",
    "version": 3
   },
   "file_extension": ".py",
   "mimetype": "text/x-python",
   "name": "python",
   "nbconvert_exporter": "python",
   "pygments_lexer": "ipython3",
   "version": "3.10.2"
  },
  "orig_nbformat": 4
 },
 "nbformat": 4,
 "nbformat_minor": 2
}
