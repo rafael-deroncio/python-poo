{
 "cells": [
  {
   "cell_type": "markdown",
   "metadata": {},
   "source": [
    "# Modificadores\n",
    "\n",
    "Em python _**não temos modificadores**_ para restringir o acesso a dados da classe. Portanto ao nomear atributos e métodos segue-se uma convenção da PEP8:\n",
    "  \n",
    "`nome` = __*public*__   \n",
    "`_nome` = __*protected*__   \n",
    "`__nome` = __*private*__   \n",
    "\n",
    "Na prática os atributos ou métodos ainda podem ser acessados e modificados, o que muda é que quando criado com `__` o python não deixa ser reatribuido valor para essa variável, ele acaba criando outra com mesmo nome na instância: `obj.__nome`. E para acessar o valor da variavel original deve colocar o nome da classe antes: `obj._Classe__nome.`"
   ]
  },
  {
   "cell_type": "code",
   "execution_count": null,
   "metadata": {},
   "outputs": [],
   "source": [
    "class Dados:\n",
    "    def __init__(self):\n",
    "        self.publicos = {}\n",
    "        self._protegidos = {}\n",
    "        self.__privados = {}\n",
    "\n",
    "    # getter para obter valor fora da classe/objeto\n",
    "    @property\n",
    "    def protegidos(self):\n",
    "        return self._protegidos\n",
    "\n",
    "    # setter para setar valor fora da classe/objeto\n",
    "    @protegidos.setter\n",
    "    def protegidos(self, valor):\n",
    "        self._protegidos = valor"
   ]
  }
 ],
 "metadata": {
  "language_info": {
   "name": "python"
  },
  "orig_nbformat": 4
 },
 "nbformat": 4,
 "nbformat_minor": 2
}
