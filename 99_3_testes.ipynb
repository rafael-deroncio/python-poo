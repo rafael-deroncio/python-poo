{
 "cells": [
  {
   "cell_type": "code",
   "execution_count": 4,
   "metadata": {},
   "outputs": [],
   "source": [
    "class Pessoa:\n",
    "    def __init__(self, nome, idade, sexo):\n",
    "        self.__nome = nome\n",
    "        self.__idade = idade\n",
    "        self.__sexo = sexo\n",
    "    \n",
    "    @property\n",
    "    def nome(self):\n",
    "        return self.__nome\n",
    "    \n",
    "    @nome.setter\n",
    "    def nome(self, nome):\n",
    "        self.__nome = nome\n",
    "    \n",
    "    @property\n",
    "    def idade(self):\n",
    "        return self.__idade\n",
    "    \n",
    "    @idade.setter\n",
    "    def idade(self, idade):\n",
    "        self.__idade = idade\n",
    "\n",
    "    @property\n",
    "    def sexo(self):\n",
    "        return self.__sexo\n",
    "    \n",
    "    @sexo.setter\n",
    "    def sexo(self, sexo):\n",
    "        self.__sexo = sexo\n",
    "         \n",
    "    def fazerAniversario(self):\n",
    "        print(f'Feliz Aniversario, {self.nome}!!!')\n",
    "        self.idade +=1"
   ]
  },
  {
   "cell_type": "code",
   "execution_count": 10,
   "metadata": {},
   "outputs": [],
   "source": [
    "class Aluno(Pessoa):\n",
    "    \n",
    "    def __init__(self, nome, idade, sexo, matr, curso):\n",
    "        super().__init__(nome, idade, sexo)\n",
    "        self.__matr = matr\n",
    "        self.__curso = curso\n",
    "    \n",
    "    @property\n",
    "    def matr(self):\n",
    "        return self.__matr\n",
    "\n",
    "    @matr.setter\n",
    "    def matr(self, matr):\n",
    "        self.__matr = matr \n",
    "\n",
    "    @property\n",
    "    def curso(self):\n",
    "        return self.__curso\n",
    "\n",
    "    @curso.setter\n",
    "    def curso(self, curso):\n",
    "        self.__curso = curso\n",
    "    \n",
    "    def cancelarMatr(self, confirma=False):\n",
    "        if confirma:\n",
    "            self.__matr = None"
   ]
  },
  {
   "cell_type": "code",
   "execution_count": 31,
   "metadata": {},
   "outputs": [],
   "source": [
    "class Professor(Pessoa):\n",
    "    def __init__ (self, nome, idade, sexo, escpecialidade, salario):\n",
    "        super().__init__(nome, idade, sexo)\n",
    "        self.__escpecialidade = escpecialidade\n",
    "        self.__salario = salario\n",
    "    \n",
    "    @property\n",
    "    def especialidade(self):\n",
    "        return self.__escpecialidade\n",
    "\n",
    "    @especialidade.setter\n",
    "    def especialidade(self, especialidade):\n",
    "        self.__escpecialidade = especialidade\n",
    "\n",
    "    @property\n",
    "    def salario(self):\n",
    "        return self.__salario\n",
    "\n",
    "    @salario.setter\n",
    "    def salario(self, salario):\n",
    "        self.__salario = salario\n",
    "    \n",
    "\n",
    "    def receberAumento(self, porcen):\n",
    "        novo_salario = self.__salario / 100 * porcen\n",
    "        self.__salario += novo_salario\n",
    "        print(f'Novo Salario: R$ {round(self.__salario, 2)}')"
   ]
  },
  {
   "cell_type": "code",
   "execution_count": 37,
   "metadata": {},
   "outputs": [],
   "source": [
    "class Funcionario(Pessoa):\n",
    "    def __init__(self, nome, idade, sexo, setor, trabalhando):\n",
    "        super().__init__(nome, idade, sexo)\n",
    "        self.__setor = setor\n",
    "        self.__trabalhando = trabalhando\n",
    "    \n",
    "    @property\n",
    "    def setor(self):\n",
    "        return self.__setor\n",
    "\n",
    "    @setor.setter\n",
    "    def setor(self, setor):\n",
    "        self.__setor = setor\n",
    "\n",
    "    @property\n",
    "    def trabalhando(self):\n",
    "        return self.__trabalhando\n",
    "\n",
    "    @trabalhando.setter\n",
    "    def setor(self, trabalhando):\n",
    "        self.__trabalhando = trabalhando\n",
    "    \n",
    "    def mudarTrabalho(self):\n",
    "        if self.__trabalhando:\n",
    "            self.__trabalhando = False\n",
    "        else:\n",
    "            self.__trabalhando = True\n",
    "        "
   ]
  },
  {
   "cell_type": "code",
   "execution_count": 32,
   "metadata": {},
   "outputs": [],
   "source": [
    "aluno = Aluno('Rafael', 28, 'M', 1234, 'Engenharia da Computacao')"
   ]
  },
  {
   "cell_type": "code",
   "execution_count": 33,
   "metadata": {},
   "outputs": [],
   "source": [
    "professor = Professor('Maria Lucia', 46, 'F', 'Artes', 2650.00)"
   ]
  },
  {
   "cell_type": "code",
   "execution_count": null,
   "metadata": {},
   "outputs": [],
   "source": [
    "funcionario = Funcionario('Paula', 24, 'F', 'Secretaria', True):"
   ]
  }
 ],
 "metadata": {
  "interpreter": {
   "hash": "9efce205f64ad363cd9f14615485aca38ee4ef0915866e318aa83c8d0c93f6fc"
  },
  "kernelspec": {
   "display_name": "Python 3.10.2 64-bit",
   "language": "python",
   "name": "python3"
  },
  "language_info": {
   "codemirror_mode": {
    "name": "ipython",
    "version": 3
   },
   "file_extension": ".py",
   "mimetype": "text/x-python",
   "name": "python",
   "nbconvert_exporter": "python",
   "pygments_lexer": "ipython3",
   "version": "3.10.2"
  },
  "orig_nbformat": 4
 },
 "nbformat": 4,
 "nbformat_minor": 2
}
