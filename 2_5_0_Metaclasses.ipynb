{
 "cells": [
  {
   "cell_type": "markdown",
   "metadata": {},
   "source": [
    "# Metaclasses \n",
    "Em Python tudo é um objeto, incluindo classes. Metaclasses são as \"classes\" que criam classes.\n",
    "**`type`** é uma metaclasse também."
   ]
  },
  {
   "cell_type": "code",
   "execution_count": 1,
   "metadata": {},
   "outputs": [],
   "source": [
    "# type(name = nome da classe, bases = classes herdadas, namespace = atributos e métodos)\n",
    "M = type('metaclasse', (), {})  "
   ]
  },
  {
   "cell_type": "code",
   "execution_count": null,
   "metadata": {},
   "outputs": [],
   "source": [
    "class Meta(type):\n",
    "    def __new__(mcs, name, bases, namespace):\n",
    "        if name == 'A':\n",
    "            return type.__new__(mcs, name, bases, namespace)\n",
    "\n",
    "        if 'attr_cls' in namespace:\n",
    "            del namespace['attr_cls']\n",
    "\n",
    "        return type.__new__(mcs, name, bases, namespace)"
   ]
  }
 ],
 "metadata": {
  "interpreter": {
   "hash": "9efce205f64ad363cd9f14615485aca38ee4ef0915866e318aa83c8d0c93f6fc"
  },
  "kernelspec": {
   "display_name": "Python 3.10.2 64-bit",
   "language": "python",
   "name": "python3"
  },
  "language_info": {
   "codemirror_mode": {
    "name": "ipython",
    "version": 3
   },
   "file_extension": ".py",
   "mimetype": "text/x-python",
   "name": "python",
   "nbconvert_exporter": "python",
   "pygments_lexer": "ipython3",
   "version": "3.10.2"
  },
  "orig_nbformat": 4
 },
 "nbformat": 4,
 "nbformat_minor": 2
}
