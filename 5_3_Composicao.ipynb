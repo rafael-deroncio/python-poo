{
 "cells": [
  {
   "cell_type": "markdown",
   "metadata": {},
   "source": [
    "# Composição\n",
    "Uma composição tenta representar também uma relação __todo/parte__. No entanto, na composição o objeto-todo é responsável por criar e destruir suas partes. Em uma composição, um mesmo objeto-parte não pode se associar a mais de um objeto-todo.\n",
    "\n",
    "No exemplo abaixo, o objeto cliente possui um objeto endereço na sua lista de endereços, neste caso quando o objeto cliente que é o objeto-todo for excluído, o objeto endereço também será."
   ]
  },
  {
   "cell_type": "code",
   "execution_count": null,
   "metadata": {},
   "outputs": [],
   "source": [
    "class Cliente:\n",
    "    def __init__(self, nome):\n",
    "        self.__nome = nome\n",
    "        self.__enderecos = []\n",
    "\n",
    "    @property\n",
    "    def nome(self):\n",
    "        return self.__nome\n",
    "\n",
    "    @nome.setter\n",
    "    def nome(self, nome):\n",
    "        self.__nome = nome\n",
    "\n",
    "    def inserir_endereco(self, cidade):\n",
    "        self.__enderecos.append(Endereco(cidade))\n",
    "\n",
    "    def lista_enderecos(self):\n",
    "        for endereco in self.__enderecos:\n",
    "            print(endereco.cidade)\n",
    "            \n",
    "class Endereco:\n",
    "    def __init__(self, cidade):\n",
    "        self.__cidade = cidade\n",
    "\n",
    "    @property\n",
    "    def cidade(self):\n",
    "        return self.__cidade\n",
    "\n",
    "    @cidade.setter\n",
    "    def cidade(self, cidade):\n",
    "        self.__cidade = cidade"
   ]
  },
  {
   "cell_type": "code",
   "execution_count": null,
   "metadata": {},
   "outputs": [],
   "source": [
    "cliente1 = Cliente('Rafael')\n",
    "cliente1.inseri_endereco('Sao Paulo')\n",
    "print(cliente1.nome)\n",
    "\n",
    "cliente1.lista_enderecos()\n",
    "\n",
    "del cliente1"
   ]
  }
 ],
 "metadata": {
  "language_info": {
   "name": "python"
  },
  "orig_nbformat": 4
 },
 "nbformat": 4,
 "nbformat_minor": 2
}
