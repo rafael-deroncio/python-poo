{
 "cells": [
  {
   "cell_type": "markdown",
   "metadata": {},
   "source": [
    "# Agregação (Tem outra classe)\n",
    "É um tipo especial de associação onde tenta-se demonstrar que as informações de um objeto (chamado objeto-todo) precisam ser complementados pelas informações contidas em um ou mais objetos de outra classe (chamados objetos-parte) conhecemos como todo/parte. Porém essas partes podem existir separadamente.\n",
    "\n",
    "Neste exemplo de agregação os classes podem existir separadamente porém funcionam melhor quando o carrinho possui produtos."
   ]
  },
  {
   "cell_type": "code",
   "execution_count": null,
   "metadata": {},
   "outputs": [],
   "source": [
    "class Produto:\n",
    "    def __init__(self, nome, valor):\n",
    "        self.nome = nome\n",
    "        self.valor = valor\n",
    "\n",
    "class CarrinhoCompras:\n",
    "    def __init__(self, ):\n",
    "        self.produtos = []\n",
    "\n",
    "    def inserir_produto(self, produto):\n",
    "        self.produtos.append(produto)\n",
    "\n",
    "    def lista_produtos(self):\n",
    "        for produto in self.produtos:\n",
    "            print(f'{produto.nome}: R${produto.valor}')\n",
    "\n",
    "    def soma_total(self):\n",
    "        total = 0\n",
    "        for produto in self.produtos:\n",
    "            total += produto.valor\n",
    "        return f'R${total}'"
   ]
  },
  {
   "cell_type": "code",
   "execution_count": null,
   "metadata": {},
   "outputs": [],
   "source": [
    "carrinho = CarrinhoCompras()\n",
    "\n",
    "p1 = Produto('Bone', 50)\n",
    "p2 = Produto('cueca', 20)\n",
    "p3 = Produto('tenis', 150)\n",
    "\n",
    "carrinho.inserir_produto(p1)\n",
    "carrinho.inserir_produto(p2)\n",
    "carrinho.inserir_produto(p3)\n",
    "carrinho.lista_produtos()\n",
    "\n",
    "print(carrinho.soma_total())"
   ]
  }
 ],
 "metadata": {
  "language_info": {
   "name": "python"
  },
  "orig_nbformat": 4
 },
 "nbformat": 4,
 "nbformat_minor": 2
}
