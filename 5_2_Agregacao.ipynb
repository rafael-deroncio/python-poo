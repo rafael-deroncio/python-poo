{
 "cells": [
  {
   "cell_type": "markdown",
   "metadata": {},
   "source": [
    "# Agregação (Tem outra classe)\n",
    "É um tipo especial de associação onde tenta-se demonstrar que as informações de um objeto (chamado objeto-todo) precisam ser complementados pelas informações contidas em um ou mais objetos de outra classe (chamados objetos-parte) conhecemos como todo/parte. Porém essas partes podem existir separadamente.\n",
    "\n",
    "Neste exemplo de agregação os classes podem existir separadamente porém funcionam melhor quando o carrinho possui produtos."
   ]
  },
  {
   "cell_type": "code",
   "execution_count": 7,
   "metadata": {},
   "outputs": [],
   "source": [
    "class Produto:\n",
    "    def __init__(self, nome, valor):\n",
    "        self.nome = nome\n",
    "        self.valor = valor\n",
    "\n",
    "class CarrinhoCompras:\n",
    "    def __init__(self):\n",
    "        self.produtos = []\n",
    "\n",
    "    def inserir_produto(self, produto):\n",
    "        self.produtos.append(produto)\n",
    "\n",
    "    def lista_produtos(self):\n",
    "        for produto in self.produtos:\n",
    "            print(f'{produto.nome}: R$ {produto.valor}')\n",
    "\n",
    "    def soma_total(self):\n",
    "        total = 0\n",
    "        for produto in self.produtos:\n",
    "            total += produto.valor\n",
    "        return f'R$ {total}'\n",
    "\n",
    "class Checkout:\n",
    "    def __init__(self, carrinho_compras):\n",
    "        self.__carrinho_compras = carrinho_compras\n",
    "        self.__produtos = []\n",
    "        self.__valor_total = None\n",
    "\n",
    "    @property\n",
    "    def carrinho_compras(self):\n",
    "        return self.__carrinho_compras\n",
    "\n",
    "    @property\n",
    "    def produtos(self):\n",
    "        return self.__produtos\n",
    "\n",
    "    @property\n",
    "    def valor_total(self):\n",
    "        return self.__valor_total\n",
    "\n",
    "    @carrinho_compras.setter\n",
    "    def carrinho_compras(self, carrinho_compras):\n",
    "        self.__carrinho_compras = carrinho_compras\n",
    "\n",
    "    @produtos.setter\n",
    "    def produtos(self, produtos):\n",
    "        for produto in produtos:\n",
    "            self.__produtos.append(produto)\n",
    "\n",
    "    @valor_total.setter\n",
    "    def valor_total(self, valor_total):\n",
    "        pass\n",
    "\n",
    "    def desconto(self, desconto):\n",
    "        pass"
   ]
  },
  {
   "cell_type": "code",
   "execution_count": 8,
   "metadata": {},
   "outputs": [
    {
     "name": "stdout",
     "output_type": "stream",
     "text": [
      "Bone: R$ 50\n",
      "cueca: R$ 20\n",
      "tenis: R$ 150\n",
      "R$ 220\n"
     ]
    }
   ],
   "source": [
    "carrinho = CarrinhoCompras()\n",
    "\n",
    "p1 = Produto('Bone', 50)\n",
    "p2 = Produto('cueca', 20)\n",
    "p3 = Produto('tenis', 150)\n",
    "\n",
    "carrinho.inserir_produto(p1)\n",
    "carrinho.inserir_produto(p2)\n",
    "carrinho.inserir_produto(p3)\n",
    "carrinho.lista_produtos()\n",
    "\n",
    "print(carrinho.soma_total())"
   ]
  },
  {
   "cell_type": "code",
   "execution_count": 11,
   "metadata": {},
   "outputs": [],
   "source": [
    "checkout = Checkout(carrinho_compras=carrinho)"
   ]
  }
 ],
 "metadata": {
  "interpreter": {
   "hash": "9efce205f64ad363cd9f14615485aca38ee4ef0915866e318aa83c8d0c93f6fc"
  },
  "kernelspec": {
   "display_name": "Python 3.10.2 64-bit",
   "language": "python",
   "name": "python3"
  },
  "language_info": {
   "codemirror_mode": {
    "name": "ipython",
    "version": 3
   },
   "file_extension": ".py",
   "mimetype": "text/x-python",
   "name": "python",
   "nbconvert_exporter": "python",
   "pygments_lexer": "ipython3",
   "version": "3.10.2"
  },
  "orig_nbformat": 4
 },
 "nbformat": 4,
 "nbformat_minor": 2
}
