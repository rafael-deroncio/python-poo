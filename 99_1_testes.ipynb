{
 "cells": [
  {
   "cell_type": "code",
   "execution_count": 160,
   "metadata": {},
   "outputs": [],
   "source": [
    "from abc import ABC, abstractmethod"
   ]
  },
  {
   "cell_type": "code",
   "execution_count": 161,
   "metadata": {},
   "outputs": [],
   "source": [
    "class Controlador(ABC):\n",
    "\n",
    "    @abstractmethod\n",
    "    def ligar():\n",
    "        pass\n",
    "\n",
    "    @abstractmethod\n",
    "    def desligar():\n",
    "        pass\n",
    "\n",
    "    @abstractmethod\n",
    "    def abrirMenu():\n",
    "        pass\n",
    "\n",
    "    @abstractmethod\n",
    "    def fecharMenu():\n",
    "        pass\n",
    "\n",
    "    @abstractmethod\n",
    "    def maisVolume():\n",
    "        pass\n",
    "\n",
    "    @abstractmethod\n",
    "    def menosVolume():\n",
    "        pass\n",
    "\n",
    "    @abstractmethod\n",
    "    def ligaMudo():\n",
    "        pass\n",
    "\n",
    "    @abstractmethod\n",
    "    def desligaMudo():\n",
    "        pass\n",
    "\n",
    "    @abstractmethod\n",
    "    def play():\n",
    "        pass\n",
    "\n",
    "    @abstractmethod\n",
    "    def pause():\n",
    "        pass"
   ]
  },
  {
   "cell_type": "code",
   "execution_count": 162,
   "metadata": {},
   "outputs": [],
   "source": [
    "class ControleRemoto(Controlador):\n",
    "    \n",
    "    def __init__(self):\n",
    "        self.__ligado = False\n",
    "        self.__tocando = False\n",
    "        self.__mudo = False\n",
    "        self.__volume = 50\n",
    "        self.__menu = False\n",
    "        self.__mute_volume = 0\n",
    "            \n",
    "    @property\n",
    "    def ligado(self):\n",
    "        return self.__ligado\n",
    "    \n",
    "    @ligado.setter\n",
    "    def ligado(self, ligado):\n",
    "        self.__ligado = ligado\n",
    "\n",
    "    @property\n",
    "    def tocando(self):\n",
    "        return self.__tocando\n",
    "    \n",
    "    @tocando.setter\n",
    "    def tocando(self, tocando):\n",
    "        self.__tocando = tocando\n",
    "\n",
    "    @property\n",
    "    def mudo(self):\n",
    "        return self.__mudo\n",
    "    \n",
    "    @mudo.setter\n",
    "    def mudo(self, mudo):\n",
    "        self.__mudo = mudo\n",
    "\n",
    "    @property\n",
    "    def volume(self):\n",
    "        return self.__volume\n",
    "    \n",
    "    @volume.setter\n",
    "    def volume(self, volume):\n",
    "        self.__volume = volume\n",
    "\n",
    "    @property\n",
    "    def menu(self):\n",
    "        return self.__menu\n",
    "    \n",
    "    @menu.setter\n",
    "    def menu(self, menu):\n",
    "        self.__menu = menu\n",
    "\n",
    "    def ligar(self):\n",
    "        if self.__ligado == False:\n",
    "            self.__ligado = True\n",
    "            print(f'Ligado: {self.__ligado}')\n",
    "\n",
    "    def desligar(self):\n",
    "        if self.__ligado:\n",
    "            self.__ligado = False\n",
    "            print(f'Ligado: {self.__ligado}')\n",
    "    \n",
    "    def abrirMenu(self):\n",
    "        if self.__ligado:\n",
    "            self.__menu = True\n",
    "            print('Menu:')\n",
    "            print(f'   Ligado: {self.__ligado}')\n",
    "            print(f'   Tocando: {self.__tocando}')\n",
    "            print(f'   Volume: {self.__volume}', end=' ')\n",
    "            for i in range(self.__volume+1):\n",
    "                print('|', end='')\n",
    "            print()\n",
    "        \n",
    "\n",
    "    def fecharMenu(self):\n",
    "        if self.__ligado:\n",
    "            self.__menu = False\n",
    "            print('Menu Fechado')\n",
    "        \n",
    "\n",
    "    def maisVolume(self):\n",
    "        if self.__ligado:\n",
    "            if self.__volume > 0 and self.__volume < 100: \n",
    "                self.__volume += 5\n",
    "\n",
    "                print(f'   Volume: {self.__volume}', end=' ')\n",
    "                for i in range(self.__volume+1):\n",
    "                    print('|', end='')\n",
    "                print()\n",
    "\n",
    "\n",
    "    def menosVolume(self):\n",
    "        if self.__ligado:\n",
    "            if self.__volume > 0 and self.__volume < 100: \n",
    "                self.__volume -= 5\n",
    "                \n",
    "                print(f'   Volume: {self.__volume}', end=' ')\n",
    "                for i in range(self.__volume+1):\n",
    "                    print('|', end='')\n",
    "                print()\n",
    "\n",
    "    def ligaMudo(self):\n",
    "        if self.__ligado and self.__mute_volume == 0:\n",
    "            self.__mute_volume = self.__volume\n",
    "            self.__volume = 0\n",
    "            print('Mute Ligado!')\n",
    "\n",
    "    def desligaMudo(self):\n",
    "        if self.__ligado and self.__mute_volume != 0:\n",
    "            self.__volume = self.__mute_volume\n",
    "            self.__mute_volume = 0\n",
    "            print('Mute Desigado!')\n",
    "\n",
    "    def play(self):\n",
    "        if self.__ligado:\n",
    "            self.__tocando = True\n",
    "\n",
    "    def pause(self):\n",
    "        if self.__ligado:\n",
    "            self.__tocando = False"
   ]
  },
  {
   "cell_type": "code",
   "execution_count": 163,
   "metadata": {},
   "outputs": [],
   "source": [
    "controle = ControleRemoto()"
   ]
  },
  {
   "cell_type": "code",
   "execution_count": 164,
   "metadata": {},
   "outputs": [
    {
     "name": "stdout",
     "output_type": "stream",
     "text": [
      "Ligado: True\n"
     ]
    }
   ],
   "source": [
    "controle.ligar()"
   ]
  },
  {
   "cell_type": "code",
   "execution_count": 165,
   "metadata": {},
   "outputs": [
    {
     "name": "stdout",
     "output_type": "stream",
     "text": [
      "Menu:\n",
      "   Ligado: True\n",
      "   Tocando: False\n",
      "   Volume: 50 |||||||||||||||||||||||||||||||||||||||||||||||||||\n",
      "Menu Fechado\n"
     ]
    }
   ],
   "source": [
    "controle.abrirMenu()\n",
    "controle.fecharMenu()"
   ]
  },
  {
   "cell_type": "code",
   "execution_count": 166,
   "metadata": {},
   "outputs": [
    {
     "name": "stdout",
     "output_type": "stream",
     "text": [
      "   Volume: 55 ||||||||||||||||||||||||||||||||||||||||||||||||||||||||\n",
      "   Volume: 60 |||||||||||||||||||||||||||||||||||||||||||||||||||||||||||||\n",
      "   Volume: 65 ||||||||||||||||||||||||||||||||||||||||||||||||||||||||||||||||||\n",
      "\n",
      "   Volume: 60 |||||||||||||||||||||||||||||||||||||||||||||||||||||||||||||\n",
      "   Volume: 55 ||||||||||||||||||||||||||||||||||||||||||||||||||||||||\n",
      "   Volume: 50 |||||||||||||||||||||||||||||||||||||||||||||||||||\n"
     ]
    }
   ],
   "source": [
    "controle.maisVolume()\n",
    "controle.maisVolume()\n",
    "controle.maisVolume()\n",
    "print()\n",
    "controle.menosVolume()\n",
    "controle.menosVolume()\n",
    "controle.menosVolume()"
   ]
  },
  {
   "cell_type": "code",
   "execution_count": 167,
   "metadata": {},
   "outputs": [
    {
     "name": "stdout",
     "output_type": "stream",
     "text": [
      "Mute Ligado!\n",
      "Menu:\n",
      "   Ligado: True\n",
      "   Tocando: False\n",
      "   Volume: 0 |\n"
     ]
    }
   ],
   "source": [
    "controle.ligaMudo()\n",
    "controle.abrirMenu()"
   ]
  },
  {
   "cell_type": "code",
   "execution_count": 168,
   "metadata": {},
   "outputs": [
    {
     "name": "stdout",
     "output_type": "stream",
     "text": [
      "Mute Desigado!\n",
      "Menu:\n",
      "   Ligado: True\n",
      "   Tocando: False\n",
      "   Volume: 50 |||||||||||||||||||||||||||||||||||||||||||||||||||\n"
     ]
    }
   ],
   "source": [
    "controle.desligaMudo()\n",
    "controle.abrirMenu()"
   ]
  },
  {
   "cell_type": "code",
   "execution_count": 169,
   "metadata": {},
   "outputs": [
    {
     "name": "stdout",
     "output_type": "stream",
     "text": [
      "Menu:\n",
      "   Ligado: True\n",
      "   Tocando: True\n",
      "   Volume: 50 |||||||||||||||||||||||||||||||||||||||||||||||||||\n"
     ]
    }
   ],
   "source": [
    "controle.play()\n",
    "controle.abrirMenu()"
   ]
  },
  {
   "cell_type": "code",
   "execution_count": 170,
   "metadata": {},
   "outputs": [
    {
     "name": "stdout",
     "output_type": "stream",
     "text": [
      "Menu:\n",
      "   Ligado: True\n",
      "   Tocando: False\n",
      "   Volume: 50 |||||||||||||||||||||||||||||||||||||||||||||||||||\n"
     ]
    }
   ],
   "source": [
    "controle.pause()\n",
    "controle.abrirMenu()"
   ]
  }
 ],
 "metadata": {
  "interpreter": {
   "hash": "9efce205f64ad363cd9f14615485aca38ee4ef0915866e318aa83c8d0c93f6fc"
  },
  "kernelspec": {
   "display_name": "Python 3.10.2 64-bit",
   "language": "python",
   "name": "python3"
  },
  "language_info": {
   "codemirror_mode": {
    "name": "ipython",
    "version": 3
   },
   "file_extension": ".py",
   "mimetype": "text/x-python",
   "name": "python",
   "nbconvert_exporter": "python",
   "pygments_lexer": "ipython3",
   "version": "3.10.2"
  },
  "orig_nbformat": 4
 },
 "nbformat": 4,
 "nbformat_minor": 2
}
